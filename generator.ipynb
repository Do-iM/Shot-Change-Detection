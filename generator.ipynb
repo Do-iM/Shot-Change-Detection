{
 "cells": [
  {
   "cell_type": "code",
   "execution_count": 1,
   "metadata": {},
   "outputs": [],
   "source": [
    "from PIL import Image\n",
    "import os\n",
    "import random"
   ]
  },
  {
   "cell_type": "code",
   "execution_count": 2,
   "metadata": {},
   "outputs": [],
   "source": [
    "train_size = 10\n",
    "image_size = (224, 224)\n",
    "dissolve_level = 10\n",
    "dissolve_min_level = 3\n",
    "fade_level = 10\n",
    "fade_min_level = 3\n",
    "basedir = os.listdir('Base')"
   ]
  },
  {
   "cell_type": "code",
   "execution_count": 3,
   "metadata": {},
   "outputs": [],
   "source": [
    "os.mkdir(\"Non\")\n",
    "for i in range(0, train_size):\n",
    "    # select random base set\n",
    "    dir_index = random.randrange(0, len(basedir))\n",
    "    imgs = os.listdir('Base/' + basedir[dir_index])\n",
    "    \n",
    "    # select two continuous image / resize to (224, 224)\n",
    "    img_index = random.randrange(0, len(imgs) - 1)\n",
    "    img1 = Image.open('Base/' + basedir[dir_index] + '/' + imgs[img_index])\n",
    "    img1 = img1.resize(image_size)\n",
    "    img2 = Image.open('Base/' + basedir[dir_index] + '/' + imgs[img_index + 1])\n",
    "    img2 = img2.resize(image_size)\n",
    "    \n",
    "    # merge img1, img2 to img / save img to 'Non/#.img'\n",
    "    img = Image.new('RGB', image_size)\n",
    "    img.paste(img1.crop((0, 0, 112, 224)), (0, 0))\n",
    "    img.paste(img2.crop((112, 0, 224, 224)), (112, 0))\n",
    "    img.save('Non/' + str(i) + '.jpg')"
   ]
  },
  {
   "cell_type": "code",
   "execution_count": 4,
   "metadata": {},
   "outputs": [],
   "source": [
    "os.mkdir(\"Cut\")\n",
    "for i in range(0, train_size):\n",
    "    # select two different base set(set A, set B)\n",
    "    dir_index = random.sample(range(0, len(basedir)), 2)\n",
    "    imgs_a = os.listdir('Base/' + basedir[dir_index[0]])\n",
    "    imgs_b = os.listdir('Base/' + basedir[dir_index[1]])\n",
    "    \n",
    "    # select two random image / resize to (224, 224)\n",
    "    img_index_a = random.randrange(0, len(imgs_a))\n",
    "    img1 = Image.open('Base/' + basedir[dir_index[0]] + '/' + imgs_a[img_index_a])\n",
    "    img1 = img1.resize(image_size)\n",
    "    img_index_b = random.randrange(0, len(imgs_b))\n",
    "    img2 = Image.open('Base/' + basedir[dir_index[1]] + '/' + imgs_b[img_index_b])\n",
    "    img2 = img2.resize(image_size)\n",
    "    \n",
    "    # merge img1, img2 to img / save img to 'Cut/#.img'\n",
    "    img = Image.new('RGB', image_size)\n",
    "    img.paste(img1.crop((0, 0, 112, 224)), (0, 0))\n",
    "    img.paste(img2.crop((112, 0, 224, 224)), (112, 0))\n",
    "    img.save('Cut/' + str(i) + '.jpg')"
   ]
  },
  {
   "cell_type": "code",
   "execution_count": 5,
   "metadata": {},
   "outputs": [
    {
     "name": "stdout",
     "output_type": "stream",
     "text": [
      "[1, 0]\n",
      "[0, 1]\n",
      "[0, 1]\n",
      "[1, 0]\n",
      "[0, 1]\n",
      "[0, 1]\n",
      "[1, 0]\n",
      "[1, 0]\n",
      "[1, 0]\n",
      "[1, 0]\n"
     ]
    }
   ],
   "source": [
    "os.mkdir(\"Dissolve\")\n",
    "for i in range(0, train_size):\n",
    "    # select two different base set(set A, set B)\n",
    "    dir_index = random.sample(range(0, len(basedir)), 2)\n",
    "    imgs_a = os.listdir('Base/' + basedir[dir_index[0]])\n",
    "    imgs_b = os.listdir('Base/' + basedir[dir_index[1]])\n",
    "    \n",
    "    # select two continuous image / resize to (224, 224)\n",
    "    img_index_a = random.randrange(0, len(imgs_a) - 1)\n",
    "    img1_a = Image.open('Base/' + basedir[dir_index[0]] + '/' + imgs_a[img_index_a])\n",
    "    img1_a = img1_a.resize(image_size)\n",
    "    img2_a = Image.open('Base/' + basedir[dir_index[0]] + '/' + imgs_a[img_index_a + 1])\n",
    "    img2_a = img2_a.resize(image_size)\n",
    "    img_index_b = random.randrange(0, len(imgs_b) - 1)\n",
    "    img1_b = Image.open('Base/' + basedir[dir_index[1]] + '/' + imgs_b[img_index_b])\n",
    "    img1_b = img1_b.resize(image_size)\n",
    "    img2_b = Image.open('Base/' + basedir[dir_index[1]] + '/' + imgs_b[img_index_b + 1])\n",
    "    img2_b = img2_b.resize(image_size)\n",
    "    \n",
    "    # make dissolve image\n",
    "    # if level is low, img# is similar to img#_a\n",
    "    # if level is high, img# is similar to img#_b\n",
    "    level = random.randrange(dissolve_min_level, dissolve_level - dissolve_min_level)\n",
    "    img1 = Image.blend(img1_a, img1_b, level / dissolve_level)\n",
    "    img2 = Image.blend(img2_a, img2_b, (level + 1) / dissolve_level)\n",
    "    \n",
    "    # merge img1, img2 to img / save img to 'Dissolve/#.img'\n",
    "    img = Image.new('RGB', image_size)\n",
    "    img.paste(img1.crop((0, 0, 112, 224)), (0, 0))\n",
    "    img.paste(img2.crop((112, 0, 224, 224)), (112, 0))\n",
    "    img.save('Dissolve/' + str(i) + '.jpg')"
   ]
  },
  {
   "cell_type": "code",
   "execution_count": 6,
   "metadata": {},
   "outputs": [],
   "source": [
    "os.mkdir(\"Fade\")\n",
    "for i in range(0, train_size):\n",
    "    # select random base set\n",
    "    dir_index = random.randrange(0, len(basedir))\n",
    "    imgs = os.listdir('Base/' + basedir[dir_index])\n",
    "    \n",
    "    # select two continuous image / resize to (224, 224)\n",
    "    img_index = random.randrange(0, len(imgs) - 1)\n",
    "    img1 = Image.open('Base/' + basedir[dir_index] + '/' + imgs[img_index])\n",
    "    img1 = img1.resize(image_size)\n",
    "    img2 = Image.open('Base/' + basedir[dir_index] + '/' + imgs[img_index + 1])\n",
    "    img2 = img2.resize(image_size)\n",
    "    \n",
    "    # make dissolve image\n",
    "    # if level is low, img# is similar to img#_a\n",
    "    # if level is high, img# is similar to img#_b\n",
    "    level = random.randrange(fade_min_level, fade_level - fade_min_level)\n",
    "    # if random < 0.5, bw is black\n",
    "    # otherwise, bw is white\n",
    "    bw = Image.new(\"RGB\", image_size, (255, 255, 255) if random.random() < 0.5 else (0, 0, 0))\n",
    "    if random.random() < 0.5: # image to black or white        \n",
    "        img1 = Image.blend(img1, bw, level / fade_level)\n",
    "        img2 = Image.blend(img2, bw, (level + 1) / fade_level)\n",
    "    else: # black or white to image\n",
    "        img1 = Image.blend(bw, img1, level / fade_level)\n",
    "        img2 = Image.blend(bw, img2, (level + 1) / fade_level)\n",
    "    \n",
    "    # merge img1, img2 to img / save img to 'Fade/#.img'\n",
    "    img = Image.new('RGB', image_size)\n",
    "    img.paste(img1.crop((0, 0, 112, 224)), (0, 0))\n",
    "    img.paste(img2.crop((112, 0, 224, 224)), (112, 0))\n",
    "    img.save('Fade/' + str(i) + '.jpg')"
   ]
  }
 ],
 "metadata": {
  "kernelspec": {
   "display_name": "Python 3",
   "language": "python",
   "name": "python3"
  },
  "language_info": {
   "codemirror_mode": {
    "name": "ipython",
    "version": 3
   },
   "file_extension": ".py",
   "mimetype": "text/x-python",
   "name": "python",
   "nbconvert_exporter": "python",
   "pygments_lexer": "ipython3",
   "version": "3.7.3"
  }
 },
 "nbformat": 4,
 "nbformat_minor": 2
}
