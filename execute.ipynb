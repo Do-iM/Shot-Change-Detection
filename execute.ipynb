{
 "cells": [
  {
   "cell_type": "code",
   "execution_count": 1,
   "metadata": {},
   "outputs": [],
   "source": [
    "# default setting\n",
    "from tensorflow import keras"
   ]
  },
  {
   "cell_type": "code",
   "execution_count": null,
   "metadata": {},
   "outputs": [],
   "source": [
    "# AMD setting\n",
    "import os\n",
    "os.environ[\"KERAS_BACKEND\"] = \"plaidml.keras.backend\"\n",
    "os.environ[\"PLAIDML_EXPERIMENTAL\"] = \"1\"\n",
    "os.environ[\"PLAIDML_DEVICE_IDS\"] = \"opencl_amd_ellesmere.0\"\n",
    "import keras"
   ]
  },
  {
   "cell_type": "code",
   "execution_count": null,
   "metadata": {},
   "outputs": [],
   "source": []
  },
  {
   "cell_type": "code",
   "execution_count": null,
   "metadata": {},
   "outputs": [],
   "source": [
    "import Generator"
   ]
  },
  {
   "cell_type": "code",
   "execution_count": null,
   "metadata": {},
   "outputs": [],
   "source": [
    "Generator.generate(10)"
   ]
  },
  {
   "cell_type": "code",
   "execution_count": null,
   "metadata": {},
   "outputs": [],
   "source": []
  },
  {
   "cell_type": "code",
   "execution_count": null,
   "metadata": {},
   "outputs": [],
   "source": [
    "import FFmpegDecoder"
   ]
  },
  {
   "cell_type": "code",
   "execution_count": null,
   "metadata": {},
   "outputs": [],
   "source": [
    "FFmpegDecoder.video_to_image(\"sample.mp4\", \"sample_images\", 20)"
   ]
  },
  {
   "cell_type": "code",
   "execution_count": null,
   "metadata": {},
   "outputs": [],
   "source": []
  },
  {
   "cell_type": "code",
   "execution_count": 2,
   "metadata": {},
   "outputs": [],
   "source": [
    "import TwoImageConcat"
   ]
  },
  {
   "cell_type": "code",
   "execution_count": null,
   "metadata": {},
   "outputs": [],
   "source": [
    "# Make new model with random weights\n",
    "model = TwoImageConcat.make_model(keras)\n",
    "TwoImageConcat.compile_model(model)\n",
    "\n",
    "# Train model\n",
    "TwoImageConcat.train_model(model, epochs=2)\n",
    "\n",
    "# Save model\n",
    "TwoImageConcat.save_model(\"model.h5\", model)"
   ]
  },
  {
   "cell_type": "code",
   "execution_count": 3,
   "metadata": {},
   "outputs": [
    {
     "name": "stdout",
     "output_type": "stream",
     "text": [
      "Found 1600 images belonging to 4 classes.\n",
      "Found 400 images belonging to 4 classes.\n",
      "              precision    recall  f1-score   support\n",
      "\n",
      "         0.0       0.74      0.80      0.77        25\n",
      "         1.0       0.89      0.96      0.92        25\n",
      "         2.0       1.00      0.38      0.55        21\n",
      "         3.0       0.63      0.83      0.72        29\n",
      "\n",
      "    accuracy                           0.76       100\n",
      "   macro avg       0.82      0.74      0.74       100\n",
      "weighted avg       0.80      0.76      0.75       100\n",
      "\n",
      "[[20  2  0  3]\n",
      " [ 0 24  0  1]\n",
      " [ 3  0  8 10]\n",
      " [ 4  1  0 24]]\n"
     ]
    }
   ],
   "source": [
    "# Make new model with saved weights\n",
    "model = TwoImageConcat.load_model(keras, \"model.h5\")\n",
    "TwoImageConcat.compile_model(model)\n",
    "\n",
    "# Check validation\n",
    "(_, data_gen) = TwoImageConcat.get_data_gen(keras, 100)\n",
    "TwoImageConcat.check_validation(model, data_gen)"
   ]
  },
  {
   "cell_type": "code",
   "execution_count": null,
   "metadata": {},
   "outputs": [],
   "source": []
  }
 ],
 "metadata": {
  "kernelspec": {
   "display_name": "Python 3",
   "language": "python",
   "name": "python3"
  },
  "language_info": {
   "codemirror_mode": {
    "name": "ipython",
    "version": 3
   },
   "file_extension": ".py",
   "mimetype": "text/x-python",
   "name": "python",
   "nbconvert_exporter": "python",
   "pygments_lexer": "ipython3",
   "version": "3.7.3"
  }
 },
 "nbformat": 4,
 "nbformat_minor": 2
}
