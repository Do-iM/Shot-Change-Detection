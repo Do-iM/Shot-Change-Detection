{
 "cells": [
  {
   "cell_type": "code",
   "execution_count": 3,
   "metadata": {},
   "outputs": [],
   "source": [
    "# default setting\n",
    "from tensorflow import keras"
   ]
  },
  {
   "cell_type": "code",
   "execution_count": null,
   "metadata": {},
   "outputs": [],
   "source": [
    "# AMD setting\n",
    "import os\n",
    "os.environ[\"KERAS_BACKEND\"] = \"plaidml.keras.backend\"\n",
    "os.environ[\"PLAIDML_EXPERIMENTAL\"] = \"1\"\n",
    "os.environ[\"PLAIDML_DEVICE_IDS\"] = \"opencl_amd_ellesmere.0\"\n",
    "import keras"
   ]
  },
  {
   "cell_type": "code",
   "execution_count": null,
   "metadata": {},
   "outputs": [],
   "source": []
  },
  {
   "cell_type": "code",
   "execution_count": 1,
   "metadata": {},
   "outputs": [],
   "source": [
    "import Generator"
   ]
  },
  {
   "cell_type": "code",
   "execution_count": 2,
   "metadata": {},
   "outputs": [],
   "source": [
    "Generator.generate(100) #100개씩 만듦"
   ]
  },
  {
   "cell_type": "code",
   "execution_count": 5,
   "metadata": {},
   "outputs": [],
   "source": [
    "#fade : 5프레임 - 0.5초 안에 "
   ]
  },
  {
   "cell_type": "code",
   "execution_count": 6,
   "metadata": {},
   "outputs": [],
   "source": [
    "import FFmpegDecoder"
   ]
  },
  {
   "cell_type": "code",
   "execution_count": 7,
   "metadata": {},
   "outputs": [],
   "source": [
    "FFmpegDecoder.video_to_image(\"sample.mp4\", \"sample_images\", 20) #초당 20장 "
   ]
  },
  {
   "cell_type": "code",
   "execution_count": null,
   "metadata": {},
   "outputs": [],
   "source": []
  },
  {
   "cell_type": "code",
   "execution_count": 4,
   "metadata": {},
   "outputs": [],
   "source": [
    "import TwoImageConcat"
   ]
  },
  {
   "cell_type": "code",
   "execution_count": null,
   "metadata": {},
   "outputs": [],
   "source": [
    "# Make new model with random weights\n",
    "model = TwoImageConcat.make_model(keras)\n",
    "TwoImageConcat.compile_model(model)\n",
    "\n",
    "# Train model\n",
    "TwoImageConcat.train_model(model, epochs=2)\n",
    "\n",
    "# Save model\n",
    "TwoImageConcat.save_model(\"model.h5\", model)"
   ]
  },
  {
   "cell_type": "code",
   "execution_count": 7,
   "metadata": {
    "scrolled": true
   },
   "outputs": [
    {
     "name": "stdout",
     "output_type": "stream",
     "text": [
      "Found 0 images belonging to 0 classes.\n",
      "Found 400 images belonging to 4 classes.\n",
      "              precision    recall  f1-score   support\n",
      "\n",
      "         0.0       0.94      0.62      0.74        26\n",
      "         1.0       0.80      1.00      0.89        20\n",
      "         2.0       0.95      0.70      0.81        27\n",
      "         3.0       0.66      0.93      0.77        27\n",
      "\n",
      "    accuracy                           0.80       100\n",
      "   macro avg       0.84      0.81      0.80       100\n",
      "weighted avg       0.84      0.80      0.80       100\n",
      "\n",
      "[[16  4  0  6]\n",
      " [ 0 20  0  0]\n",
      " [ 1  0 19  7]\n",
      " [ 0  1  1 25]]\n"
     ]
    }
   ],
   "source": [
    "# Make new model with saved weights\n",
    "model = TwoImageConcat.load_model(keras, \"model.h5\")\n",
    "TwoImageConcat.compile_model(model)\n",
    "\n",
    "# Check validation\n",
    "(_, data_gen) = TwoImageConcat.get_data_gen(keras, 100)\n",
    "TwoImageConcat.check_validation(model, data_gen)"
   ]
  },
  {
   "cell_type": "code",
   "execution_count": null,
   "metadata": {},
   "outputs": [],
   "source": []
  }
 ],
 "metadata": {
  "kernelspec": {
   "display_name": "Python 3",
   "language": "python",
   "name": "python3"
  },
  "language_info": {
   "codemirror_mode": {
    "name": "ipython",
    "version": 3
   },
   "file_extension": ".py",
   "mimetype": "text/x-python",
   "name": "python",
   "nbconvert_exporter": "python",
   "pygments_lexer": "ipython3",
   "version": "3.7.3"
  }
 },
 "nbformat": 4,
 "nbformat_minor": 2
}
