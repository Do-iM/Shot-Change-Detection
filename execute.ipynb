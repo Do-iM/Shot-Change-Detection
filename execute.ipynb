{
 "cells": [
  {
   "cell_type": "code",
   "execution_count": 1,
   "metadata": {},
   "outputs": [],
   "source": [
    "import GenFunction\n",
    "import DataGenerator\n",
    "import FFmpegDecoder"
   ]
  },
  {
   "cell_type": "code",
   "execution_count": null,
   "metadata": {},
   "outputs": [],
   "source": []
  },
  {
   "cell_type": "code",
   "execution_count": null,
   "metadata": {},
   "outputs": [],
   "source": [
    "### generate N images per class ###"
   ]
  },
  {
   "cell_type": "code",
   "execution_count": null,
   "metadata": {},
   "outputs": [],
   "source": [
    "DataGenerator.generate(GenFunction.mix2image, 200, \"Base_t\", \"train\")\n",
    "DataGenerator.generate(GenFunction.mix2image, 50, \"Base_v\", \"valid\")"
   ]
  },
  {
   "cell_type": "code",
   "execution_count": null,
   "metadata": {},
   "outputs": [],
   "source": [
    "DataGenerator.generate(GenFunction.mix4image, 200, \"Base_t\", \"train\")\n",
    "DataGenerator.generate(GenFunction.mix4image, 50, \"Base_v\", \"valid\")"
   ]
  },
  {
   "cell_type": "code",
   "execution_count": null,
   "metadata": {},
   "outputs": [],
   "source": [
    "DataGenerator.generate(GenFunction.concat2image, 200, \"Base_t\", \"train\")\n",
    "DataGenerator.generate(GenFunction.concat2image, 50, \"Base_v\", \"valid\")"
   ]
  },
  {
   "cell_type": "code",
   "execution_count": null,
   "metadata": {},
   "outputs": [],
   "source": []
  },
  {
   "cell_type": "code",
   "execution_count": null,
   "metadata": {},
   "outputs": [],
   "source": [
    "### decoding video ###"
   ]
  },
  {
   "cell_type": "code",
   "execution_count": null,
   "metadata": {},
   "outputs": [],
   "source": [
    "# X.mp4 to DIR/XXXX.jpg\n",
    "FFmpegDecoder.video_to_image(\"sample.mp4\", \"sample_images\", 30)"
   ]
  },
  {
   "cell_type": "code",
   "execution_count": null,
   "metadata": {},
   "outputs": [],
   "source": [
    "# DIR1/XXXX.jpg and DIR1/YYYY.jpg to DIR2/XXXX.jpg\n",
    "DataGenerator.frame_to_input(GenFunction.concat2image, \"sample_images\", \"input\")"
   ]
  },
  {
   "cell_type": "code",
   "execution_count": null,
   "metadata": {},
   "outputs": [],
   "source": []
  },
  {
   "cell_type": "code",
   "execution_count": null,
   "metadata": {},
   "outputs": [],
   "source": [
    "# default setting\n",
    "from tensorflow import keras"
   ]
  },
  {
   "cell_type": "code",
   "execution_count": 2,
   "metadata": {},
   "outputs": [
    {
     "name": "stderr",
     "output_type": "stream",
     "text": [
      "Using plaidml.keras.backend backend.\n"
     ]
    }
   ],
   "source": [
    "# AMD setting\n",
    "import os\n",
    "os.environ[\"KERAS_BACKEND\"] = \"plaidml.keras.backend\"\n",
    "os.environ[\"PLAIDML_EXPERIMENTAL\"] = \"1\"\n",
    "os.environ[\"PLAIDML_DEVICE_IDS\"] = \"opencl_amd_ellesmere.0\"\n",
    "import keras"
   ]
  },
  {
   "cell_type": "code",
   "execution_count": 3,
   "metadata": {},
   "outputs": [],
   "source": [
    "import KerasFunction as K\n",
    "import VGGModel"
   ]
  },
  {
   "cell_type": "code",
   "execution_count": null,
   "metadata": {},
   "outputs": [],
   "source": []
  },
  {
   "cell_type": "code",
   "execution_count": 4,
   "metadata": {},
   "outputs": [],
   "source": [
    "K.keras = keras\n",
    "VGGModel.keras = keras\n",
    "K.gen_f = GenFunction.concat2image"
   ]
  },
  {
   "cell_type": "code",
   "execution_count": null,
   "metadata": {},
   "outputs": [],
   "source": []
  },
  {
   "cell_type": "code",
   "execution_count": 5,
   "metadata": {},
   "outputs": [
    {
     "name": "stderr",
     "output_type": "stream",
     "text": [
      "INFO:plaidml:Opening device \"opencl_amd_ellesmere.0\"\n"
     ]
    },
    {
     "name": "stdout",
     "output_type": "stream",
     "text": [
      "__________________________________________________________________________________________________\n",
      "Layer (type)                    Output Shape         Param #     Connected to                     \n",
      "==================================================================================================\n",
      "input_1 (InputLayer)            (None, 224, 224, 3)  0                                            \n",
      "__________________________________________________________________________________________________\n",
      "input_2_ (InputLayer)           (None, 224, 224, 3)  0                                            \n",
      "__________________________________________________________________________________________________\n",
      "vgg16 (Model)                   (None, 7, 7, 512)    14714688    input_1[0][0]                    \n",
      "__________________________________________________________________________________________________\n",
      "vgg16_ (Model)                  (None, 7, 7, 512)    14714688    input_2_[0][0]                   \n",
      "__________________________________________________________________________________________________\n",
      "multiply_1 (Multiply)           (None, 7, 7, 512)    0           vgg16[1][0]                      \n",
      "                                                                 vgg16_[1][0]                     \n",
      "__________________________________________________________________________________________________\n",
      "max_pooling2d_1 (MaxPooling2D)  (None, 1, 1, 512)    0           multiply_1[0][0]                 \n",
      "__________________________________________________________________________________________________\n",
      "flatten_1 (Flatten)             (None, 512)          0           max_pooling2d_1[0][0]            \n",
      "__________________________________________________________________________________________________\n",
      "dense_1 (Dense)                 (None, 4096)         2101248     flatten_1[0][0]                  \n",
      "__________________________________________________________________________________________________\n",
      "dense_2 (Dense)                 (None, 1024)         4195328     dense_1[0][0]                    \n",
      "__________________________________________________________________________________________________\n",
      "dense_3 (Dense)                 (None, 4)            4100        dense_2[0][0]                    \n",
      "==================================================================================================\n",
      "Total params: 35,730,052\n",
      "Trainable params: 6,300,676\n",
      "Non-trainable params: 29,429,376\n",
      "__________________________________________________________________________________________________\n"
     ]
    }
   ],
   "source": [
    "model = K.make_model()\n",
    "model.summary()"
   ]
  },
  {
   "cell_type": "code",
   "execution_count": 6,
   "metadata": {},
   "outputs": [
    {
     "name": "stdout",
     "output_type": "stream",
     "text": [
      "Epoch 1/2\n",
      "Found 200 images belonging to 4 classes.\n",
      "Found 800 images belonging to 4 classes.\n",
      "50/50 [==============================] - 66s 1s/step - loss: 3.2886 - acc: 0.5038 - val_loss: 0.7099 - val_acc: 0.6937\n",
      "Epoch 2/2\n",
      "50/50 [==============================] - 58s 1s/step - loss: 0.5306 - acc: 0.8063 - val_loss: 0.7031 - val_acc: 0.7368\n"
     ]
    }
   ],
   "source": [
    "# Make new model with random weights\n",
    "model = K.make_model()\n",
    "K.compile_model(model)\n",
    "\n",
    "# Train model\n",
    "K.train_model(model, train_steps = 50, valid_steps=10, epochs=2)\n",
    "\n",
    "# Save model\n",
    "K.save_model(\"model.h5\", model)"
   ]
  },
  {
   "cell_type": "code",
   "execution_count": 10,
   "metadata": {},
   "outputs": [
    {
     "name": "stdout",
     "output_type": "stream",
     "text": [
      "Found 200 images belonging to 4 classes.\n",
      "              precision    recall  f1-score   support\n",
      "\n",
      "         0.0       1.00      0.62      0.77        50\n",
      "         1.0       0.97      0.58      0.72        50\n",
      "         2.0       0.57      0.86      0.68        50\n",
      "         3.0       0.65      0.82      0.73        50\n",
      "\n",
      "    accuracy                           0.72       200\n",
      "   macro avg       0.80      0.72      0.72       200\n",
      "weighted avg       0.80      0.72      0.72       200\n",
      "\n",
      "[[31  0 14  5]\n",
      " [ 0 29 10 11]\n",
      " [ 0  1 43  6]\n",
      " [ 0  0  9 41]]\n"
     ]
    }
   ],
   "source": [
    "# Make new model with saved weights\n",
    "model = K.load_model(\"model.h5\")\n",
    "K.compile_model(model)\n",
    "\n",
    "# Check validation\n",
    "(_, data_gen) = K.get_data_gen(200)\n",
    "K.check_validation(model, data_gen)"
   ]
  },
  {
   "cell_type": "code",
   "execution_count": null,
   "metadata": {
    "scrolled": true
   },
   "outputs": [],
   "source": [
    "# Make new model with saved weights\n",
    "model = K.load_model(\"model.h5\")\n",
    "K.compile_model(model)"
   ]
  },
  {
   "cell_type": "code",
   "execution_count": null,
   "metadata": {
    "scrolled": true
   },
   "outputs": [],
   "source": [
    "# detect from images\n",
    "K.detection(model, \"input\")"
   ]
  },
  {
   "cell_type": "code",
   "execution_count": null,
   "metadata": {},
   "outputs": [],
   "source": [
    "#model = K.load_model(\"model.h5\")\n",
    "#K.compile_model(model)\n",
    "K.detection(model, \"valid/3_Fade\")"
   ]
  },
  {
   "cell_type": "code",
   "execution_count": null,
   "metadata": {},
   "outputs": [],
   "source": []
  }
 ],
 "metadata": {
  "kernelspec": {
   "display_name": "Python 3",
   "language": "python",
   "name": "python3"
  },
  "language_info": {
   "codemirror_mode": {
    "name": "ipython",
    "version": 3
   },
   "file_extension": ".py",
   "mimetype": "text/x-python",
   "name": "python",
   "nbconvert_exporter": "python",
   "pygments_lexer": "ipython3",
   "version": "3.7.3"
  }
 },
 "nbformat": 4,
 "nbformat_minor": 2
}
