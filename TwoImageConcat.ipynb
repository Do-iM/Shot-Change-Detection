{
 "cells": [
  {
   "cell_type": "code",
   "execution_count": 1,
   "metadata": {},
   "outputs": [],
   "source": [
    "import numpy as np\n",
    "import matplotlib.pyplot as plt\n",
    "import os"
   ]
  },
  {
   "cell_type": "code",
   "execution_count": 2,
   "metadata": {},
   "outputs": [],
   "source": [
    "# choose default setting or AMD setting"
   ]
  },
  {
   "cell_type": "code",
   "execution_count": 3,
   "metadata": {},
   "outputs": [],
   "source": [
    "# default setting\n",
    "import tensorflow as tf\n",
    "from tensorflow import keras\n",
    "from tensorflow.keras.preprocessing.image import ImageDataGenerator\n",
    "from tensorflow.keras.applications.vgg16 import VGG16"
   ]
  },
  {
   "cell_type": "code",
   "execution_count": 2,
   "metadata": {},
   "outputs": [
    {
     "name": "stderr",
     "output_type": "stream",
     "text": [
      "Using plaidml.keras.backend backend.\n"
     ]
    }
   ],
   "source": [
    "# AMD setting\n",
    "os.environ[\"KERAS_BACKEND\"] = \"plaidml.keras.backend\"\n",
    "os.environ[\"PLAIDML_EXPERIMENTAL\"] = \"1\"\n",
    "os.environ[\"PLAIDML_DEVICE_IDS\"] = \"opencl_amd_ellesmere.0\"\n",
    "\n",
    "import keras\n",
    "from keras.preprocessing.image import ImageDataGenerator\n",
    "from keras.applications.vgg16 import VGG16"
   ]
  },
  {
   "cell_type": "code",
   "execution_count": 3,
   "metadata": {},
   "outputs": [],
   "source": [
    "# start after setting"
   ]
  },
  {
   "cell_type": "code",
   "execution_count": 6,
   "metadata": {},
   "outputs": [],
   "source": [
    "# you can change this values\n",
    "class_names = ['Non', 'Cut', 'Dissolve', 'Fade']\n",
    "batch_size = 10\n",
    "train_steps = 120 # = total_train_image / batch_size\n",
    "valid_steps = 40 # = total_valid_image / batch_size\n",
    "epochs = 10"
   ]
  },
  {
   "cell_type": "code",
   "execution_count": 7,
   "metadata": {},
   "outputs": [
    {
     "name": "stdout",
     "output_type": "stream",
     "text": [
      "Found 1200 images belonging to 4 classes.\n",
      "Found 400 images belonging to 4 classes.\n"
     ]
    }
   ],
   "source": [
    "# \n",
    "train_image_generator = ImageDataGenerator(rescale=1./255)\n",
    "valid_image_generator = ImageDataGenerator(rescale=1./255)\n",
    "train_data_gen = train_image_generator.flow_from_directory(batch_size=batch_size,\n",
    "                                                           directory='train',\n",
    "                                                           shuffle=True,\n",
    "                                                           target_size=(224, 224),\n",
    "                                                           class_mode='binary')\n",
    "valid_data_gen = valid_image_generator.flow_from_directory(batch_size=batch_size,\n",
    "                                                           directory='valid',\n",
    "                                                           target_size=(224, 224),\n",
    "                                                           class_mode='binary')"
   ]
  },
  {
   "cell_type": "code",
   "execution_count": 8,
   "metadata": {},
   "outputs": [
    {
     "name": "stderr",
     "output_type": "stream",
     "text": [
      "INFO:plaidml:Opening device \"opencl_amd_ellesmere.0\"\n"
     ]
    }
   ],
   "source": [
    "model = VGG16(weights=None, classes=len(class_names))\n",
    "#model.summary()"
   ]
  },
  {
   "cell_type": "code",
   "execution_count": 9,
   "metadata": {},
   "outputs": [],
   "source": [
    "model.compile(optimizer='adam',\n",
    "              loss='sparse_categorical_crossentropy',\n",
    "              metrics=['accuracy'])"
   ]
  },
  {
   "cell_type": "code",
   "execution_count": 10,
   "metadata": {},
   "outputs": [
    {
     "name": "stdout",
     "output_type": "stream",
     "text": [
      "Epoch 1/10\n"
     ]
    },
    {
     "name": "stderr",
     "output_type": "stream",
     "text": [
      "INFO:plaidml:Analyzing Ops: 126 of 650 operations complete\n"
     ]
    },
    {
     "name": "stdout",
     "output_type": "stream",
     "text": [
      "120/120 [==============================] - 309s 3s/step - loss: 1.8260 - acc: 0.2458 - val_loss: 1.3864 - val_acc: 0.2500\n",
      "Epoch 2/10\n",
      "120/120 [==============================] - 280s 2s/step - loss: 1.3870 - acc: 0.2275 - val_loss: 1.3863 - val_acc: 0.2500\n",
      "Epoch 3/10\n",
      "120/120 [==============================] - 280s 2s/step - loss: 1.3866 - acc: 0.2275 - val_loss: 1.3863 - val_acc: 0.2500\n",
      "Epoch 4/10\n",
      "120/120 [==============================] - 280s 2s/step - loss: 1.3866 - acc: 0.2350 - val_loss: 1.3863 - val_acc: 0.2500\n",
      "Epoch 5/10\n",
      "120/120 [==============================] - 280s 2s/step - loss: 1.3865 - acc: 0.2250 - val_loss: 1.3863 - val_acc: 0.2500\n",
      "Epoch 6/10\n",
      "120/120 [==============================] - 281s 2s/step - loss: 1.3865 - acc: 0.2250 - val_loss: 1.3863 - val_acc: 0.2500\n",
      "Epoch 7/10\n",
      "120/120 [==============================] - 281s 2s/step - loss: 1.3866 - acc: 0.2167 - val_loss: 1.3863 - val_acc: 0.2500\n",
      "Epoch 8/10\n",
      "120/120 [==============================] - 281s 2s/step - loss: 1.3865 - acc: 0.2225 - val_loss: 1.3863 - val_acc: 0.2500\n",
      "Epoch 9/10\n",
      "120/120 [==============================] - 280s 2s/step - loss: 1.3865 - acc: 0.2317 - val_loss: 1.3863 - val_acc: 0.2500\n",
      "Epoch 10/10\n",
      "120/120 [==============================] - 281s 2s/step - loss: 1.3865 - acc: 0.2292 - val_loss: 1.3863 - val_acc: 0.2500\n"
     ]
    }
   ],
   "source": [
    "history = model.fit_generator(\n",
    "    train_data_gen,\n",
    "    steps_per_epoch=train_steps,\n",
    "    epochs=epochs,\n",
    "    validation_data=valid_data_gen,\n",
    "    validation_steps=valid_steps\n",
    ")"
   ]
  },
  {
   "cell_type": "code",
   "execution_count": null,
   "metadata": {},
   "outputs": [],
   "source": []
  }
 ],
 "metadata": {
  "kernelspec": {
   "display_name": "Python 3",
   "language": "python",
   "name": "python3"
  },
  "language_info": {
   "codemirror_mode": {
    "name": "ipython",
    "version": 3
   },
   "file_extension": ".py",
   "mimetype": "text/x-python",
   "name": "python",
   "nbconvert_exporter": "python",
   "pygments_lexer": "ipython3",
   "version": "3.7.3"
  }
 },
 "nbformat": 4,
 "nbformat_minor": 2
}
