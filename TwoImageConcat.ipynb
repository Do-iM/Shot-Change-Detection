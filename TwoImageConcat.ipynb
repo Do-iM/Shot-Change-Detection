{
 "cells": [
  {
   "cell_type": "code",
   "execution_count": 1,
   "metadata": {},
   "outputs": [],
   "source": [
    "import numpy as np\n",
    "import matplotlib.pyplot as plt\n",
    "import os"
   ]
  },
  {
   "cell_type": "code",
   "execution_count": 2,
   "metadata": {},
   "outputs": [],
   "source": [
    "# choose default setting or AMD setting"
   ]
  },
  {
   "cell_type": "code",
   "execution_count": 3,
   "metadata": {},
   "outputs": [],
   "source": [
    "# default setting\n",
    "import tensorflow as tf\n",
    "from tensorflow import keras\n",
    "from tensorflow.keras.preprocessing.image import ImageDataGenerator\n",
    "from tensorflow.keras.applications.vgg16 import VGG16\n",
    "from tensorflow.keras import layers, models"
   ]
  },
  {
   "cell_type": "code",
   "execution_count": 3,
   "metadata": {},
   "outputs": [
    {
     "name": "stderr",
     "output_type": "stream",
     "text": [
      "Using plaidml.keras.backend backend.\n"
     ]
    }
   ],
   "source": [
    "# AMD setting\n",
    "os.environ[\"KERAS_BACKEND\"] = \"plaidml.keras.backend\"\n",
    "os.environ[\"PLAIDML_EXPERIMENTAL\"] = \"1\"\n",
    "os.environ[\"PLAIDML_DEVICE_IDS\"] = \"opencl_amd_ellesmere.0\"\n",
    "\n",
    "import keras\n",
    "from keras.preprocessing.image import ImageDataGenerator\n",
    "from keras.applications.vgg16 import VGG16\n",
    "from keras import layers, models"
   ]
  },
  {
   "cell_type": "code",
   "execution_count": 4,
   "metadata": {},
   "outputs": [],
   "source": [
    "# start after setting"
   ]
  },
  {
   "cell_type": "code",
   "execution_count": 13,
   "metadata": {},
   "outputs": [],
   "source": [
    "# you can change this values\n",
    "class_names = ['Non', 'Cut', 'Dissolve', 'Fade']\n",
    "batch_size = 10\n",
    "train_steps = 400\n",
    "valid_steps = 100\n",
    "epochs = 10"
   ]
  },
  {
   "cell_type": "code",
   "execution_count": 14,
   "metadata": {},
   "outputs": [
    {
     "name": "stdout",
     "output_type": "stream",
     "text": [
      "Found 8000 images belonging to 4 classes.\n",
      "Found 2000 images belonging to 4 classes.\n"
     ]
    }
   ],
   "source": [
    "# \n",
    "train_image_generator = ImageDataGenerator(rescale=1./255)\n",
    "valid_image_generator = ImageDataGenerator(rescale=1./255)\n",
    "train_data_gen = train_image_generator.flow_from_directory(batch_size=batch_size,\n",
    "                                                           directory='train',\n",
    "                                                           shuffle=True,\n",
    "                                                           target_size=(224, 224),\n",
    "                                                           class_mode='binary')\n",
    "valid_data_gen = valid_image_generator.flow_from_directory(batch_size=batch_size,\n",
    "                                                           directory='valid',\n",
    "                                                           target_size=(224, 224),\n",
    "                                                           class_mode='binary')"
   ]
  },
  {
   "cell_type": "code",
   "execution_count": 15,
   "metadata": {},
   "outputs": [],
   "source": [
    "vgg16_model = VGG16(include_top=False, weights='imagenet', input_shape=(224, 224, 3))\n",
    "#vgg16_model.summary()\n",
    "vgg16_model.trainable = False\n",
    "model = models.Sequential()\n",
    "model.add(vgg16_model)\n",
    "model.add(layers.Flatten())\n",
    "model.add(layers.Dense(4096, activation='relu'))\n",
    "model.add(layers.Dense(4096, activation='relu'))\n",
    "model.add(layers.Dense(4, activation='softmax'))\n",
    "#model.summary()"
   ]
  },
  {
   "cell_type": "code",
   "execution_count": 16,
   "metadata": {},
   "outputs": [],
   "source": [
    "model.compile(optimizer='adam',\n",
    "              loss='sparse_categorical_crossentropy',\n",
    "              metrics=['accuracy'])"
   ]
  },
  {
   "cell_type": "code",
   "execution_count": 17,
   "metadata": {},
   "outputs": [
    {
     "name": "stdout",
     "output_type": "stream",
     "text": [
      "Epoch 1/10\n",
      "400/400 [==============================] - 569s 1s/step - loss: 1.0378 - acc: 0.7195 - val_loss: 0.4691 - val_acc: 0.8030\n",
      "Epoch 2/10\n",
      "400/400 [==============================] - 570s 1s/step - loss: 0.3401 - acc: 0.8688 - val_loss: 0.3228 - val_acc: 0.8700\n",
      "Epoch 3/10\n",
      "400/400 [==============================] - 566s 1s/step - loss: 0.2168 - acc: 0.9240 - val_loss: 0.2739 - val_acc: 0.8970\n",
      "Epoch 4/10\n",
      "400/400 [==============================] - 566s 1s/step - loss: 0.2183 - acc: 0.9208 - val_loss: 0.6123 - val_acc: 0.8780\n",
      "Epoch 5/10\n",
      "400/400 [==============================] - 570s 1s/step - loss: 0.1315 - acc: 0.9503 - val_loss: 0.2796 - val_acc: 0.9090\n",
      "Epoch 6/10\n",
      "400/400 [==============================] - 569s 1s/step - loss: 0.1692 - acc: 0.9393 - val_loss: 0.2235 - val_acc: 0.9140\n",
      "Epoch 7/10\n",
      "400/400 [==============================] - 569s 1s/step - loss: 0.1064 - acc: 0.9618 - val_loss: 0.2321 - val_acc: 0.9240\n",
      "Epoch 8/10\n",
      "400/400 [==============================] - 570s 1s/step - loss: 0.1312 - acc: 0.9540 - val_loss: 0.2134 - val_acc: 0.9430\n",
      "Epoch 9/10\n",
      "400/400 [==============================] - 570s 1s/step - loss: 0.1082 - acc: 0.9615 - val_loss: 0.2031 - val_acc: 0.9370\n",
      "Epoch 10/10\n",
      "400/400 [==============================] - 570s 1s/step - loss: 0.0902 - acc: 0.9685 - val_loss: 0.3308 - val_acc: 0.9150\n"
     ]
    }
   ],
   "source": [
    "history = model.fit_generator(\n",
    "    train_data_gen,\n",
    "    steps_per_epoch=train_steps,\n",
    "    epochs=epochs,\n",
    "    validation_data=valid_data_gen,\n",
    "    validation_steps=valid_steps\n",
    ")"
   ]
  },
  {
   "cell_type": "code",
   "execution_count": 25,
   "metadata": {},
   "outputs": [
    {
     "data": {
      "image/png": "[encoded data removed]",
      "text/plain": [
       "<Figure size 576x576 with 2 Axes>"
      ]
     },
     "metadata": {
      "needs_background": "light"
     },
     "output_type": "display_data"
    }
   ],
   "source": [
    "acc = history.history['acc']\n",
    "val_acc = history.history['val_acc']\n",
    "\n",
    "loss = history.history['loss']\n",
    "val_loss = history.history['val_loss']\n",
    "\n",
    "epochs_range = range(epochs)\n",
    "\n",
    "plt.figure(figsize=(8, 8))\n",
    "plt.subplot(1, 2, 1)\n",
    "plt.plot(epochs_range, acc, label='Training Accuracy')\n",
    "plt.plot(epochs_range, val_acc, label='Validation Accuracy')\n",
    "plt.legend(loc='lower right')\n",
    "plt.title('Training and Validation Accuracy')\n",
    "\n",
    "plt.subplot(1, 2, 2)\n",
    "plt.plot(epochs_range, loss, label='Training Loss')\n",
    "plt.plot(epochs_range, val_loss, label='Validation Loss')\n",
    "plt.legend(loc='upper right')\n",
    "plt.title('Training and Validation Loss')\n",
    "plt.show()"
   ]
  },
  {
   "cell_type": "code",
   "execution_count": null,
   "metadata": {},
   "outputs": [],
   "source": []
  }
 ],
 "metadata": {
  "kernelspec": {
   "display_name": "Python 3",
   "language": "python",
   "name": "python3"
  },
  "language_info": {
   "codemirror_mode": {
    "name": "ipython",
    "version": 3
   },
   "file_extension": ".py",
   "mimetype": "text/x-python",
   "name": "python",
   "nbconvert_exporter": "python",
   "pygments_lexer": "ipython3",
   "version": "3.7.3"
  }
 },
 "nbformat": 4,
 "nbformat_minor": 2
}
