{
 "cells": [
  {
   "cell_type": "code",
   "execution_count": 1,
   "metadata": {},
   "outputs": [],
   "source": [
    "import GenFunction\n",
    "import DataGenerator\n",
    "import FFmpegDecoder"
   ]
  },
  {
   "cell_type": "code",
   "execution_count": null,
   "metadata": {},
   "outputs": [],
   "source": []
  },
  {
   "cell_type": "code",
   "execution_count": null,
   "metadata": {},
   "outputs": [],
   "source": [
    "### generate N images per class ###"
   ]
  },
  {
   "cell_type": "code",
   "execution_count": null,
   "metadata": {},
   "outputs": [],
   "source": [
    "DataGenerator.generate(GenFunction.mix2image, 200, \"Base_t\", \"train\")\n",
    "DataGenerator.generate(GenFunction.mix2image, 50, \"Base_v\", \"valid\")"
   ]
  },
  {
   "cell_type": "code",
   "execution_count": null,
   "metadata": {},
   "outputs": [],
   "source": [
    "DataGenerator.generate(GenFunction.mix4image, 200, \"Base_t\", \"train\")\n",
    "DataGenerator.generate(GenFunction.mix4image, 50, \"Base_v\", \"valid\")"
   ]
  },
  {
   "cell_type": "code",
   "execution_count": 2,
   "metadata": {},
   "outputs": [],
   "source": [
    "DataGenerator.generate(GenFunction.concat2image, 800, \"Base_t\", \"train\")\n",
    "DataGenerator.generate(GenFunction.concat2image, 200, \"Base_v\", \"valid\")"
   ]
  },
  {
   "cell_type": "code",
   "execution_count": 2,
   "metadata": {},
   "outputs": [],
   "source": [
    "DataGenerator.generate(GenFunction.concat4image, 800, \"Base_t\", \"train\")\n",
    "DataGenerator.generate(GenFunction.concat4image, 200, \"Base_v\", \"valid\")"
   ]
  },
  {
   "cell_type": "code",
   "execution_count": null,
   "metadata": {},
   "outputs": [],
   "source": []
  },
  {
   "cell_type": "code",
   "execution_count": null,
   "metadata": {},
   "outputs": [],
   "source": [
    "### decoding video ###"
   ]
  },
  {
   "cell_type": "code",
   "execution_count": null,
   "metadata": {},
   "outputs": [],
   "source": [
    "# X.mp4 to DIR/XXXX.jpg\n",
    "FFmpegDecoder.video_to_image(\"sample.mp4\", \"sample_images\", 30)"
   ]
  },
  {
   "cell_type": "code",
   "execution_count": null,
   "metadata": {},
   "outputs": [],
   "source": [
    "# DIR1/XXXX.jpg and DIR1/YYYY.jpg to DIR2/XXXX.jpg\n",
    "DataGenerator.frame_to_input(GenFunction.concat4image, \"sample_images\", \"input\")"
   ]
  },
  {
   "cell_type": "code",
   "execution_count": null,
   "metadata": {},
   "outputs": [],
   "source": []
  }
 ],
 "metadata": {
  "kernelspec": {
   "display_name": "Python 3",
   "language": "python",
   "name": "python3"
  },
  "language_info": {
   "codemirror_mode": {
    "name": "ipython",
    "version": 3
   },
   "file_extension": ".py",
   "mimetype": "text/x-python",
   "name": "python",
   "nbconvert_exporter": "python",
   "pygments_lexer": "ipython3",
   "version": "3.7.3"
  }
 },
 "nbformat": 4,
 "nbformat_minor": 2
}
